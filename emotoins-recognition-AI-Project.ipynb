{
 "cells": [
  {
   "cell_type": "markdown",
   "id": "06e3f3f8-a62b-4bfb-899c-6e74e06a9874",
   "metadata": {},
   "source": [
    "# Emotions Recognition AI Project\n"
   ]
  },
  {
   "cell_type": "markdown",
   "id": "b0633b11-2206-4224-bd12-cffabce21ca8",
   "metadata": {},
   "source": [
    "### 사용할 모델 다운로드\n",
    "#### face-detection-adas-0001 다운로드"
   ]
  },
  {
   "cell_type": "code",
   "execution_count": 1,
   "id": "46e368e0-b8d6-4ca1-84f3-eaaa9980586a",
   "metadata": {},
   "outputs": [
    {
     "name": "stdout",
     "output_type": "stream",
     "text": [
      "################|| Downloading face-detection-adas-0001 ||################\n",
      "\n",
      "========== Downloading C:\\BrainAI\\emotions-recognition\\intel\\face-detection-adas-0001\\FP16\\face-detection-adas-0001.xml\n",
      "... 100%, 304 KB, 329 KB/s, 0 seconds passed\n",
      "\n",
      "========== Downloading C:\\BrainAI\\emotions-recognition\\intel\\face-detection-adas-0001\\FP16\\face-detection-adas-0001.bin\n",
      "... 49%, 1024 KB, 744 KB/s, 1 seconds passed\n",
      "... 99%, 2048 KB, 1272 KB/s, 1 seconds passed\n",
      "... 100%, 2056 KB, 1278 KB/s, 1 seconds passed\n",
      "\n"
     ]
    }
   ],
   "source": [
    "! omz_downloader --name face-detection-adas-0001 --precision FP16"
   ]
  },
  {
   "cell_type": "markdown",
   "id": "8b2f9ea5-31cd-44b4-bbea-99ab8ea573e1",
   "metadata": {},
   "source": [
    "## emotions-recognition-retail-0003 모델 다운로드"
   ]
  },
  {
   "cell_type": "code",
   "execution_count": 2,
   "id": "60b6eed5-fa0a-4427-835c-10aead3466fd",
   "metadata": {},
   "outputs": [
    {
     "name": "stdout",
     "output_type": "stream",
     "text": [
      "################|| Downloading emotions-recognition-retail-0003 ||################\n",
      "\n",
      "========== Downloading C:\\BrainAI\\emotions-recognition\\intel\\emotions-recognition-retail-0003\\FP16\\emotions-recognition-retail-0003.xml\n",
      "... 100%, 54 KB, 3624 KB/s, 0 seconds passed\n",
      "\n",
      "========== Downloading C:\\BrainAI\\emotions-recognition\\intel\\emotions-recognition-retail-0003\\FP16\\emotions-recognition-retail-0003.bin\n",
      "... 21%, 1024 KB, 172 KB/s, 5 seconds passed\n",
      "... 42%, 2048 KB, 279 KB/s, 7 seconds passed\n",
      "... 63%, 3072 KB, 372 KB/s, 8 seconds passed\n",
      "... 84%, 4096 KB, 458 KB/s, 8 seconds passed\n",
      "... 100%, 4848 KB, 525 KB/s, 9 seconds passed\n",
      "\n"
     ]
    }
   ],
   "source": [
    "! omz_downloader --name emotions-recognition-retail-0003 --precision FP16"
   ]
  },
  {
   "cell_type": "markdown",
   "id": "76b3dbde-49b2-498f-a40d-e75f36e961f7",
   "metadata": {},
   "source": [
    "## 필요한 라이브러리 Imports"
   ]
  },
  {
   "cell_type": "code",
   "execution_count": 3,
   "id": "5b98c409-50b9-4f0f-87a9-224b9de7ab07",
   "metadata": {},
   "outputs": [],
   "source": [
    "import openvino as ov\n",
    "import cv2\n",
    "import numpy as np\n",
    "\n",
    "import matplotlib.pyplot as plt\n",
    "from pathlib import Path"
   ]
  },
  {
   "cell_type": "markdown",
   "id": "799c9bd1-c20e-4f3e-ba5f-1fd47b28bc66",
   "metadata": {},
   "source": [
    "### Inference 할 device 확인"
   ]
  },
  {
   "cell_type": "code",
   "execution_count": 4,
   "id": "b08d4a6d-12f3-4847-8ce3-66b1069f9020",
   "metadata": {},
   "outputs": [
    {
     "data": {
      "text/plain": [
       "['CPU', 'GPU']"
      ]
     },
     "execution_count": 4,
     "metadata": {},
     "output_type": "execute_result"
    }
   ],
   "source": [
    "core = ov.Core()\n",
    "options=core.available_devices\n",
    "\n",
    "options"
   ]
  },
  {
   "cell_type": "markdown",
   "id": "7e3748de-6f28-420c-b58b-bac7fc3e6eb2",
   "metadata": {},
   "source": [
    "### Load the Model"
   ]
  },
  {
   "cell_type": "code",
   "execution_count": 5,
   "id": "854136f3-4d56-4779-a9c2-8e6c4bbeca42",
   "metadata": {},
   "outputs": [
    {
     "name": "stdout",
     "output_type": "stream",
     "text": [
      "Input layer shape:  [1,3,384,672]\n",
      "Output layer shape: [1,1,200,7]\n"
     ]
    }
   ],
   "source": [
    "#core = ov.Core()\n",
    "\n",
    "model = core.read_model(model='./models/face-detection-adas-0001.xml')\n",
    "face_model = core.compile_model(model=model, device_name=\"CPU\")\n",
    "\n",
    "face_input_layer = face_model.input(0)\n",
    "face_output_layer = face_model.output(0)\n",
    "\n",
    "print(\"Input layer shape: \", face_input_layer.shape)\n",
    "print(\"Output layer shape:\", face_output_layer.shape)"
   ]
  },
  {
   "cell_type": "code",
   "execution_count": 6,
   "id": "7431d2a0-23c4-4f0e-b01b-263750a638ce",
   "metadata": {},
   "outputs": [
    {
     "name": "stdout",
     "output_type": "stream",
     "text": [
      "Input layer shape:  [1,3,64,64]\n",
      "Output layer shape: [1,5,1,1]\n"
     ]
    }
   ],
   "source": [
    "model = core.read_model(model='./models/emotions-recognition-retail-0003.xml')\n",
    "emotion_model = core.compile_model(model=model, device_name=\"CPU\")\n",
    "\n",
    "emotion_input_layer = emotion_model.input(0)\n",
    "emotion_output_layer = emotion_model.output(0)\n",
    "\n",
    "print(\"Input layer shape: \", emotion_input_layer.shape)\n",
    "print(\"Output layer shape:\", emotion_output_layer.shape)"
   ]
  },
  {
   "cell_type": "markdown",
   "id": "b31b969b-c3ae-47ca-b63b-96b2d17a7338",
   "metadata": {},
   "source": [
    "### Load Image"
   ]
  },
  {
   "cell_type": "code",
   "execution_count": 34,
   "id": "73cb7ae7-8b11-4c74-9099-2c570e1acc3c",
   "metadata": {},
   "outputs": [],
   "source": [
    "frame = cv2.imread(\"images/test.jpeg\")\n",
    "\n",
    "resized_frame = cv2.resize(src=frame, dsize=(672, 384)) \n",
    "transposed_frame = resized_frame.transpose(2, 0, 1)\n",
    "input_frame = np.expand_dims(transposed_frame, 0)"
   ]
  },
  {
   "cell_type": "markdown",
   "id": "b69db667-3c40-4249-805f-3d71f6e24794",
   "metadata": {},
   "source": [
    "### DrawBouningBoxes() 함수 만들기"
   ]
  },
  {
   "cell_type": "code",
   "execution_count": 35,
   "id": "af6bcb1e-d3dc-4b49-80f6-77b9499d5ce9",
   "metadata": {},
   "outputs": [],
   "source": [
    "def DrawBoundingBoxes(output, frame, conf=0.5):\n",
    "    boxes = []\n",
    "    canvas = frame.copy()\n",
    "    h,w,_ = canvas.shape \n",
    "\n",
    "    predictions = output[0][0]            # 하위 집합 데이터 프레임\n",
    "    confidence = predictions[:,2]         # conf 값 가져오기 [image_id, label, conf, x_min, y_min, x_max, y_max]\n",
    "\n",
    "    top_predictions = predictions[(confidence>conf)]         # 임계값보다 큰 conf 값을 가진 예측만 선택\n",
    "\n",
    "    for detection in top_predictions:\n",
    "        box = (detection[3:7] * np.array([w, h, w, h])).astype(\"int\") # 상자 위치 결정\n",
    "        (xmin, ymin, xmax, ymax) = box   # xmin, ymin, xmax, ymax에 상자 위치 값 지정\n",
    "        cv2.rectangle(frame, (xmin, ymin), (xmax, ymax), (0, 0, 255), 2)       # 사각형 그리기\n",
    "        boxes.append(box)     #이미지에 박스를 그린 얼굴의 위치 저장\n",
    "   \n",
    "    return boxes"
   ]
  },
  {
   "cell_type": "code",
   "execution_count": 45,
   "id": "5adccd9a-aa5c-433c-b63f-bdc191c9dcf4",
   "metadata": {},
   "outputs": [],
   "source": [
    "def DrawText(output, frame, face_position):\n",
    "    # emotions 딕셔너리 생성\n",
    "    emotions = {\n",
    "        0:\"neutral\",\n",
    "        1:\"happy\",\n",
    "        2:\"sad\",\n",
    "        3:\"surprise\",\n",
    "        4:\"anger\"\n",
    "    }\n",
    "    # 딕셔너리 출력하기\n",
    "    #for key, value in emotions.items():\n",
    "    #    print(key, value, end='      ')\n",
    "    #print()\n",
    "        \n",
    "    predictions = output[0,:,0,0]              # 5개의 감정 예측값 저장\n",
    "    #print(\"predictions : \" + str(predictions))\n",
    "    \n",
    "    topresult_index = np.argmax(predictions)   # 5개의 감정 예측값 중 가장 높은값의 위치 저장\n",
    "    #print(\"topresult_index : \" + str(topresult_index))\n",
    "    \n",
    "    emotion = emotions[topresult_index]        # emotions에서 topresult_index 값에 해당하는 감정 저장\n",
    "    #print(\"emotion : \" + emotion)\n",
    "    \n",
    "    cv2.putText(frame, emotion,                 # 예측한 감정값 이미지에 출력하기\n",
    "                (face_position[0],face_position[1]),    #xmin, ymin 값을 가져와 위치 설정\n",
    "                cv2.FONT_HERSHEY_SIMPLEX, 1, \n",
    "                (0, 0,255), 2)"
   ]
  },
  {
   "cell_type": "code",
   "execution_count": 46,
   "id": "82e2b66c-e94a-450e-b524-771d0d0c668d",
   "metadata": {},
   "outputs": [],
   "source": [
    "face_output = face_model([input_frame])[face_output_layer]\n",
    "boxes = DrawBoundingBoxes(face_output, frame, conf=0.5)"
   ]
  },
  {
   "cell_type": "code",
   "execution_count": 47,
   "id": "bbfd0c0b-1969-4c68-96fe-bd2a68d58705",
   "metadata": {},
   "outputs": [
    {
     "name": "stdout",
     "output_type": "stream",
     "text": [
      "(203, 159, 3)\n"
     ]
    }
   ],
   "source": [
    "if boxes is not None:\n",
    "    \n",
    "    for box in boxes:          #boxes에 저장된 얼굴의 위치들을 하나씩 box에 전달\n",
    "    \n",
    "        xmin, ymin, xmax, ymax = box      #box에 저장된 좌표 저장\n",
    "        emotion_input = frame[ymin:ymax,xmin:xmax]         #이미지에서 해당 얼굴 위치를 찾아 저장\n",
    "        print(emotion_input.shape)\n",
    "        \n",
    "        # 감정 인식 모델을 사용하기 위해 이미지 전처리\n",
    "        # Input layer shape:  [1,3,64,64]\n",
    "        resized_image = cv2.resize(src=emotion_input, dsize=(64, 64))      #이미지 사이즈 변경  (64,64,3)\n",
    "        transposed_image = resized_image.transpose(2, 0, 1)                #shape 위치 변경    (3,64,64)\n",
    "        input_image = np.expand_dims(transposed_image, 0)                  #차원 확장 (1,3,64,64)\n",
    "\n",
    "        emotion_output = emotion_model([input_image])[emotion_output_layer]  # 감정 추론\n",
    "        DrawText(emotion_output, frame, box)   # 추론의 결과값 이미지에 출력하기"
   ]
  },
  {
   "cell_type": "code",
   "execution_count": 39,
   "id": "4f8b5b80-b9d6-4ec8-b3cd-d3eac8ca9e16",
   "metadata": {},
   "outputs": [],
   "source": [
    "cv2.imshow(\"emotion-recognition\", frame)\n",
    "\n",
    "cv2.waitKey(0)\n",
    "cv2.destroyAllWindows()"
   ]
  },
  {
   "cell_type": "code",
   "execution_count": 48,
   "id": "59c2f9d4-dd0f-4b0f-9333-aa53fb6328e5",
   "metadata": {},
   "outputs": [],
   "source": [
    "def AddBackground(frame, bg):\n",
    "\n",
    "    frame_h, frame_w = frame.shape[0], frame.shape[1]\n",
    "    new_h = 500\n",
    "    new_w = int((new_h/frame_h)*frame_w)\n",
    "    frame_resize = cv2.resize(frame, (new_w, new_h))\n",
    "\n",
    "    xmax = bg.shape[1] - 400\n",
    "    ymax = bg.shape[0] - 175\n",
    "    xmin = xmax - new_w\n",
    "    ymin = ymax - new_h\n",
    "\n",
    "    bg[ymin:ymax, xmin:xmax] = frame_resize\n",
    "\n",
    "    return bg"
   ]
  },
  {
   "cell_type": "code",
   "execution_count": 49,
   "id": "e8275518-14ff-4d3f-bf07-cd7754c50827",
   "metadata": {},
   "outputs": [],
   "source": [
    "background = \"./images/Background2.jpg\"  #사용할 배경화면 경로\n",
    "\n",
    "bg = cv2.imread(background)\n",
    "deployment = AddBackground(frame, bg)"
   ]
  },
  {
   "cell_type": "code",
   "execution_count": 50,
   "id": "1da89e02-6dd0-4f34-9187-8ddf913d09a8",
   "metadata": {},
   "outputs": [],
   "source": [
    "cv2.imshow(\"Deployment\", deployment)\n",
    "\n",
    "cv2.waitKey(0)\n",
    "cv2.destroyAllWindows()"
   ]
  },
  {
   "cell_type": "code",
   "execution_count": 51,
   "id": "2856a6a2-0b33-4b29-b6d8-06df6de54dc5",
   "metadata": {},
   "outputs": [],
   "source": [
    "camera = cv2.VideoCapture(0) #create a VideoCapture object with the 'first' camera (your webcam)\n",
    "background = \"./images/Background2.jpg\"\n",
    "bg = cv2.imread(background)\n",
    "\n",
    "while(True):\n",
    "    ret, frame = camera.read()             # Capture frame by frame      \n",
    "    if ret == False:\n",
    "        break\n",
    "    \n",
    "    resized_frame = cv2.resize(src=frame, dsize=(672, 384)) \n",
    "    transposed_frame = resized_frame.transpose(2, 0, 1)\n",
    "    input_frame = np.expand_dims(transposed_frame, 0)    \n",
    "    \n",
    "    face_output = face_model([input_frame])[face_output_layer]\n",
    "    \n",
    "    boxes = DrawBoundingBoxes(face_output, frame, conf=0.5)\n",
    "    \n",
    "    if boxes is not None:\n",
    "    \n",
    "        for box in boxes:          #boxes에 저장된 얼굴의 위치들을 하나씩 box에 전달\n",
    "    \n",
    "            xmin, ymin, xmax, ymax = box      #box에 저장된 좌표 저장\n",
    "            emotion_input = frame[ymin:ymax,xmin:xmax]         #이미지에서 해당 얼굴 위치를 찾아 저장\n",
    "        \n",
    "            # 감정 인식 모델을 사용하기 위해 이미지 전처리\n",
    "            # Input layer shape:  [1,3,64,64]\n",
    "            resized_image = cv2.resize(src=emotion_input, dsize=(64, 64))      #이미지 사이즈 변경  (64,64,3)\n",
    "            transposed_image = resized_image.transpose(2, 0, 1)                #shape 위치 변경    (3,64,64)\n",
    "            input_image = np.expand_dims(transposed_image, 0)                  #차원 확장 (1,3,64,64)\n",
    "\n",
    "            emotion_output = emotion_model([input_image])[emotion_output_layer]  # 감정 추론\n",
    "            DrawText(emotion_output, frame, box)   # 추론의 결과값 이미지에 출력하기\n",
    "    \n",
    "    deployment = AddBackground(frame, bg)\n",
    "    \n",
    "    cv2.imshow('Press Spacebar to Exit', deployment)\n",
    "\n",
    "    if cv2.waitKey(1) & 0xFF == ord(' '):  # Stop if spacebar is detected\n",
    "        break\n",
    "\n",
    "camera.release()                           # Cleanup after spacebar is detected.\n",
    "cv2.destroyAllWindows()"
   ]
  },
  {
   "cell_type": "code",
   "execution_count": null,
   "id": "a2e4ef9b-b94d-4ee9-9c35-ffeb70a3b2a5",
   "metadata": {},
   "outputs": [],
   "source": []
  }
 ],
 "metadata": {
  "kernelspec": {
   "display_name": "Python 3 (ipykernel)",
   "language": "python",
   "name": "python3"
  },
  "language_info": {
   "codemirror_mode": {
    "name": "ipython",
    "version": 3
   },
   "file_extension": ".py",
   "mimetype": "text/x-python",
   "name": "python",
   "nbconvert_exporter": "python",
   "pygments_lexer": "ipython3",
   "version": "3.8.15"
  }
 },
 "nbformat": 4,
 "nbformat_minor": 5
}
